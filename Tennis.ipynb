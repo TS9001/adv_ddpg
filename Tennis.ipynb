{
 "cells": [
  {
   "cell_type": "markdown",
   "metadata": {},
   "source": [
    "# Collaboration and Competition\n",
    "\n",
    "---\n",
    "\n",
    "You are welcome to use this coding environment to train your agent for the project.  Follow the instructions below to get started!\n",
    "\n",
    "### 1. Start the Environment\n",
    "\n",
    "Run the next code cell to install a few packages.  This line will take a few minutes to run!\n",
    "\n",
    "The environment is already saved in the Workspace and can be accessed at the file path provided below. "
   ]
  },
  {
   "cell_type": "code",
   "execution_count": 1,
   "metadata": {
    "pycharm": {
     "is_executing": true
    }
   },
   "outputs": [
    {
     "name": "stdout",
     "output_type": "stream",
     "text": [
      "\u001b[31mtensorflow 1.7.1 has requirement numpy>=1.13.3, but you'll have numpy 1.12.1 which is incompatible.\u001b[0m\r\n",
      "\u001b[31mipython 6.5.0 has requirement prompt-toolkit<2.0.0,>=1.0.15, but you'll have prompt-toolkit 3.0.5 which is incompatible.\u001b[0m\r\n"
     ]
    },
    {
     "name": "stderr",
     "output_type": "stream",
     "text": [
      "INFO:unityagents:\n",
      "'Academy' started successfully!\n",
      "Unity Academy name: Academy\n",
      "        Number of Brains: 1\n",
      "        Number of External Brains : 1\n",
      "        Lesson number : 0\n",
      "        Reset Parameters :\n",
      "\t\t\n",
      "Unity brain name: TennisBrain\n",
      "        Number of Visual Observations (per agent): 0\n",
      "        Vector Observation space type: continuous\n",
      "        Vector Observation space size (per agent): 8\n",
      "        Number of stacked Vector Observation: 3\n",
      "        Vector Action space type: continuous\n",
      "        Vector Action space size (per agent): 2\n",
      "        Vector Action descriptions: , \n"
     ]
    }
   ],
   "source": [
    "!pip -q install ./python\n",
    "\n",
    "from unityagents import UnityEnvironment\n",
    "import numpy as np\n",
    "import torch\n",
    "import torch.nn.functional as F\n",
    "import torch.nn as nn\n",
    "import torch.optim as optim\n",
    "from collections import namedtuple, deque\n",
    "import matplotlib.pyplot as plt\n",
    "import random\n",
    "import copy\n",
    "\n",
    "env = UnityEnvironment(file_name=\"/data/Tennis_Linux_NoVis/Tennis\")\n",
    "device = torch.device(\"cuda:0\" if torch.cuda.is_available() else \"cpu\")"
   ]
  },
  {
   "cell_type": "markdown",
   "metadata": {},
   "source": [
    "Environments contain **_brains_** which are responsible for deciding the actions of their associated agents. Here we check for the first brain available, and set it as the default brain we will be controlling from Python."
   ]
  },
  {
   "cell_type": "code",
   "execution_count": 2,
   "metadata": {
    "pycharm": {
     "is_executing": false
    }
   },
   "outputs": [],
   "source": [
    "# get the default brain\n",
    "brain_name = env.brain_names[0]\n",
    "brain = env.brains[brain_name]"
   ]
  },
  {
   "cell_type": "markdown",
   "metadata": {},
   "source": [
    "### 2. Examine the State and Action Spaces\n",
    "\n",
    "Run the code cell below to print some information about the environment."
   ]
  },
  {
   "cell_type": "code",
   "execution_count": 3,
   "metadata": {
    "pycharm": {
     "is_executing": false
    }
   },
   "outputs": [
    {
     "name": "stdout",
     "output_type": "stream",
     "text": [
      "Number of agents: 2\n",
      "Size of each action: 2\n",
      "There are 2 agents. Each observes a state with length: 24\n",
      "The state for the first agent looks like: [ 0.          0.          0.          0.          0.          0.          0.\n",
      "  0.          0.          0.          0.          0.          0.          0.\n",
      "  0.          0.         -6.65278625 -1.5        -0.          0.\n",
      "  6.83172083  6.         -0.          0.        ]\n"
     ]
    }
   ],
   "source": [
    "# reset the environment\n",
    "env_info = env.reset(train_mode=True)[brain_name]\n",
    "\n",
    "# number of agents \n",
    "num_agents = len(env_info.agents)\n",
    "print('Number of agents:', num_agents)\n",
    "\n",
    "# size of each action\n",
    "action_size = brain.vector_action_space_size\n",
    "print('Size of each action:', action_size)\n",
    "\n",
    "# examine the state space \n",
    "states = env_info.vector_observations\n",
    "state_size = states.shape[1]\n",
    "print('There are {} agents. Each observes a state with length: {}'.format(states.shape[0], state_size))\n",
    "print('The state for the first agent looks like:', states[0])"
   ]
  },
  {
   "cell_type": "markdown",
   "metadata": {},
   "source": [
    "### 3. It's Your Turn!\n",
    "\n",
    "Now it's your turn to train your own agent to solve the environment!  A few **important notes**:\n",
    "- When training the environment, set `train_mode=True`, so that the line for resetting the environment looks like the following:\n",
    "```python\n",
    "env_info = env.reset(train_mode=True)[brain_name]\n",
    "```\n",
    "- To structure your work, you're welcome to work directly in this Jupyter notebook, or you might like to start over with a new file!  You can see the list of files in the workspace by clicking on **_Jupyter_** in the top left corner of the notebook.\n",
    "- In this coding environment, you will not be able to watch the agents while they are training.  However, **_after training the agents_**, you can download the saved model weights to watch the agents on your own machine! "
   ]
  },
  {
   "cell_type": "code",
   "metadata": {
    "pycharm": {
     "name": "#%%\n"
    }
   },
   "source": [
    "BUFFER_SIZE = int(1e4)  \n",
    "BATCH_SIZE = 128     \n",
    "GAMMA = 0.99            \n",
    "TAU = 1e-3             \n",
    "ACTOR_LR =  1e-3      \n",
    "CRITIC_LR =  1e-3                \n",
    "UPDATE_EVERY = 4\n",
    "NUM_UPDATES = 3\n",
    "MU=0.\n",
    "THETA=0.15\n",
    "SIGMA=0.2"
   ],
   "execution_count": null,
   "outputs": []
  },
  {
   "cell_type": "code",
   "execution_count": 5,
   "metadata": {
    "pycharm": {
     "name": "#%%\n"
    }
   },
   "outputs": [],
   "source": [
    "def hidden_init(layer):\n",
    "    fan_in = layer.weight.data.size()[0]\n",
    "    lim = 1. / np.sqrt(fan_in)\n",
    "    return (-lim, lim)\n",
    "\n",
    "class Actor(nn.Module):\n",
    "    def __init__(self, state_size, action_size, seed, fc1_units=128, fc2_units=64):\n",
    "        super(Actor, self).__init__()\n",
    "        self.seed = torch.manual_seed(seed)\n",
    "        \n",
    "        self.fc1 = nn.Linear(state_size, fc1_units)\n",
    "        self.bn1 = nn.BatchNorm1d(fc1_units)\n",
    "        self.fc2 = nn.Linear(fc1_units, fc2_units)\n",
    "        self.fc3 = nn.Linear(fc2_units, action_size)\n",
    "        self.reset_parameters()\n",
    "\n",
    "    def reset_parameters(self):\n",
    "        self.fc1.weight.data.uniform_(*hidden_init(self.fc1))\n",
    "        self.fc2.weight.data.uniform_(*hidden_init(self.fc2))\n",
    "        self.fc3.weight.data.uniform_(-3e-3, 3e-3)\n",
    "\n",
    "    def forward(self, state):\n",
    "        x = F.relu(self.fc1(state))\n",
    "        x = self.bn1(x)\n",
    "        x = F.relu(self.fc2(x))\n",
    "        return F.tanh(self.fc3(x))\n",
    "    \n",
    "class Critic(nn.Module):\n",
    "    def __init__(self, state_size, action_size, seed, fcs1_units=128, fc2_units=64):\n",
    "        super(Critic, self).__init__()\n",
    "        self.seed = torch.manual_seed(seed)\n",
    "        self.fcs1 = nn.Linear(state_size+action_size, fcs1_units)\n",
    "        self.fc2 = nn.Linear(fcs1_units, fc2_units)\n",
    "        self.bn1 = nn.BatchNorm1d(fcs1_units)\n",
    "        self.fc3 = nn.Linear(fc2_units, 1)\n",
    "        self.reset_parameters()\n",
    "\n",
    "    def reset_parameters(self):\n",
    "        self.fcs1.weight.data.uniform_(*hidden_init(self.fcs1))\n",
    "        self.fc2.weight.data.uniform_(*hidden_init(self.fc2))\n",
    "        self.fc3.weight.data.uniform_(-3e-3, 3e-3)\n",
    "\n",
    "    def forward(self, state, action):\n",
    "        xs = torch.cat((state, action.float()), dim=1)\n",
    "        x = F.relu(self.fcs1(xs))\n",
    "        x = self.bn1(x)\n",
    "        x = F.relu(self.fc2(x))\n",
    "        return self.fc3(x)"
   ]
  },
  {
   "cell_type": "code",
   "execution_count": 6,
   "metadata": {
    "pycharm": {
     "name": "#%%\n"
    }
   },
   "outputs": [],
   "source": [
    "class OUNoise:\n",
    "    def __init__(self, size, seed, mu=MU, theta=THETA, sigma=SIGMA):\n",
    "        self.size=size\n",
    "        self.mu = mu * np.ones(size)\n",
    "        self.theta = theta\n",
    "        self.sigma = sigma\n",
    "        self.seed = random.seed(seed)\n",
    "        self.reset()\n",
    "\n",
    "    def reset(self):\n",
    "        self.state = copy.copy(self.mu)\n",
    "\n",
    "    def sample(self):\n",
    "        x = self.state\n",
    "        dx = self.theta * (self.mu - x) + self.sigma * np.random.randn(self.size)\n",
    "        self.state = x + dx\n",
    "        return self.state"
   ]
  },
  {
   "cell_type": "code",
   "execution_count": 7,
   "metadata": {
    "pycharm": {
     "name": "#%%\n"
    }
   },
   "outputs": [],
   "source": [
    "class ReplayBuffer:\n",
    "    def __init__(self, buffer_size, batch_size):\n",
    "        \n",
    "        self.memory = deque(maxlen=buffer_size)  \n",
    "        self.batch_size = batch_size\n",
    "        self.experience = namedtuple(\"Experience\", field_names=[\"state\", \"action\", \"reward\", \"next_state\", \"done\"])\n",
    "    \n",
    "    def add(self, state, action, reward, next_state, done):\n",
    "        e = self.experience(state, action, reward, next_state, done)\n",
    "        self.memory.append(e)\n",
    "    \n",
    "    def sample(self):\n",
    "        experiences = random.sample(self.memory, k=self.batch_size)\n",
    "\n",
    "        states = torch.from_numpy(np.vstack([e.state for e in experiences if e is not None])).float().to(device)\n",
    "        actions = torch.from_numpy(np.vstack([e.action for e in experiences if e is not None])).float().to(device)\n",
    "        rewards = torch.from_numpy(np.vstack([e.reward for e in experiences if e is not None])).float().to(device)\n",
    "        next_states = torch.from_numpy(np.vstack([e.next_state for e in experiences if e is not None])).float().to(device)\n",
    "        dones = torch.from_numpy(np.vstack([e.done for e in experiences if e is not None]).astype(np.uint8)).float().to(device)\n",
    "\n",
    "        return (states, actions, rewards, next_states, dones)\n",
    "\n",
    "    def __len__(self):\n",
    "        return len(self.memory)"
   ]
  },
  {
   "cell_type": "markdown",
   "metadata": {
    "pycharm": {
     "is_executing": true,
     "name": "#%% md\n"
    }
   },
   "source": [
    "Multiagent - two separate actors and one shared critic."
   ]
  },
  {
   "cell_type": "code",
   "execution_count": 8,
   "metadata": {
    "pycharm": {
     "name": "#%%\n"
    }
   },
   "outputs": [],
   "source": [
    "class MultiAgent():\n",
    "\n",
    "    def __init__(self, state_size, action_size, num_agents, random_seed):\n",
    "        \n",
    "        self.state_size = state_size\n",
    "        self.action_size = action_size\n",
    "        self.num_agents = num_agents\n",
    "        self.seed = random.seed(random_seed)\n",
    "            \n",
    "        self.memory = ReplayBuffer(BUFFER_SIZE, BATCH_SIZE)\n",
    "        self.t_step = 0        \n",
    "        self.agents = [ DDPGAgent(state_size,action_size, random_seed) for _ in range(num_agents) ]\n",
    "        \n",
    "        self.critic_local = Critic(state_size*num_agents, action_size*num_agents, random_seed).to(device)\n",
    "        self.critic_target = Critic(state_size*num_agents, action_size*num_agents, random_seed).to(device)\n",
    "        self.critic_optimizer = optim.Adam(self.critic_local.parameters(), lr=CRITIC_LR)\n",
    "\n",
    "    def act(self, states, add_noise= True):\n",
    "        return [agent.act(state, add_noise) for agent, state in zip(self.agents, states)]\n",
    "    \n",
    "    #We need to squeez dimenzion to store in replay buffer\n",
    "    def store(self,squeez):\n",
    "        return np.array(squeez).reshape(1,-1).squeeze()\n",
    "    \n",
    "    def step(self, state, action, reward, next_state, done):\n",
    "        self.memory.add(self.store(state), self.store(action), reward, self.store(next_state), done)\n",
    "        \n",
    "        #Every UPDATE_EVERY do NUM_UPDATES at once\n",
    "        self.t_step = (self.t_step + 1) % UPDATE_EVERY\n",
    "        if self.t_step == 0:\n",
    "            if len(self.memory) > BATCH_SIZE:\n",
    "                for _ in range(0,NUM_UPDATES):\n",
    "                    for i,agent in enumerate(self.agents):\n",
    "                        experiences = self.memory.sample()\n",
    "                        self.learn(experiences, GAMMA, i, agent)\n",
    "\n",
    "    #Retrieve data from buffer \n",
    "    def retrieve(self,agent_num, size,squeezed):\n",
    "        return squeezed.index_select(1,torch.tensor([ i for i in range(agent_num * size, agent_num * size + size)]).to(device)) \n",
    "    \n",
    "    def get_other_index(self,index):\n",
    "        return 0 if index == 1 else 1\n",
    "\n",
    "    def learn(self, experiences, gamma, agent_num, agent):\n",
    "        states, actions, rewards, next_states, dones = experiences\n",
    "\n",
    "        # Actor picks best action basically argmax in Q-learning \n",
    "        # and critic evaluates action value action using actors best believed action\n",
    "        # critic sees all agents observations\n",
    "        actor_next_states = self.retrieve(agent_num, self.state_size, next_states)\n",
    "        adversary_next_states = self.retrieve(self.get_other_index(agent_num),self.state_size,next_states)\n",
    "        next_actions = torch.cat((agent.actor_target(actor_next_states), \n",
    "                                      agent.actor_target(adversary_next_states)), dim=1).to(device) \n",
    "       \n",
    "        Q_targets_next = self.critic_target(next_states, next_actions)\n",
    "        Q_targets = rewards + (gamma * Q_targets_next * (1 - dones))\n",
    "        Q_expected = self.critic_local(states, actions)\n",
    "        \n",
    "        #Critic loss\n",
    "        critic_loss = F.mse_loss(Q_expected, Q_targets)\n",
    "        self.critic_optimizer.zero_grad()\n",
    "        critic_loss.backward()\n",
    "        torch.nn.utils.clip_grad_norm_(self.critic_local.parameters(), 1)\n",
    "        self.critic_optimizer.step()\n",
    "        \n",
    "        # to evaluate loss actor needs critic (like often people do in real life) :D\n",
    "        # critic sees all agents observations\n",
    "        actor_states = self.retrieve(agent_num, self.state_size, states)\n",
    "        adversary_states = self.retrieve(self.get_other_index(agent_num),self.state_size,states)\n",
    "        actions_pred = torch.cat((agent.actor_local(actor_states),\n",
    "                                      agent.actor_local(adversary_states)), dim=1).to(device) \n",
    "        actor_loss = -self.critic_local(states, actions_pred).mean()\n",
    "\n",
    "        agent.actor_optimizer.zero_grad()\n",
    "        actor_loss.backward()\n",
    "        agent.actor_optimizer.step()\n",
    "        \n",
    "        #Do soft update\n",
    "        self.soft_update(self.critic_local, self.critic_target, TAU)\n",
    "        agent.soft_update(agent.actor_local, agent.actor_target, TAU)\n",
    "                     \n",
    "    def reset(self):\n",
    "        for agent in self.agents:\n",
    "            agent.reset()\n",
    "            \n",
    "    def soft_update(self, local_model, target_model, tau):\n",
    "        for target_param, local_param in zip(target_model.parameters(), local_model.parameters()):\n",
    "            target_param.data.copy_(tau*local_param.data + (1.0-tau)*target_param.data)\n",
    "    \n",
    "    def save_weights(self):    \n",
    "        torch.save(self.critic_local.state_dict(), 'critic_local.pth')\n",
    "        torch.save(self.critic_target.state_dict(), 'critic_target.pth')\n",
    "        for index, agent in enumerate(self.agents):\n",
    "            torch.save(agent.actor_local.state_dict(), f'agent{index}_local.pth')\n",
    "            torch.save(agent.actor_target.state_dict(), f'agent{index}_target.pth')"
   ]
  },
  {
   "cell_type": "markdown",
   "metadata": {
    "pycharm": {
     "is_executing": false,
     "name": "#%% md\n"
    }
   },
   "source": [
    "DDPG agent without critic. Critic is placed to Multiagent and shared by both agents."
   ]
  },
  {
   "cell_type": "code",
   "execution_count": 9,
   "metadata": {
    "pycharm": {
     "name": "#%%\n"
    }
   },
   "outputs": [],
   "source": [
    "class DDPGAgent():\n",
    "    def __init__(self, state_size, action_size, random_seed):\n",
    "        self.state_size = state_size\n",
    "        self.action_size = action_size\n",
    "        self.seed = random.seed(random_seed)\n",
    "\n",
    "        self.actor_local = Actor(state_size, action_size, random_seed).to(device)\n",
    "        self.actor_target = Actor(state_size, action_size, random_seed).to(device)\n",
    "        self.actor_optimizer = optim.Adam(self.actor_local.parameters(), lr=ACTOR_LR)\n",
    "        \n",
    "        for target, local in zip(self.actor_target.parameters(), self.actor_local.parameters()):\n",
    "            target.data.copy_(local.data)\n",
    "        \n",
    "        self.noise = OUNoise(action_size, random_seed)\n",
    "            \n",
    "    def act(self, state, add_noise= True):\n",
    "        state = torch.from_numpy(state).float().to(device)\n",
    "        self.actor_local.eval()\n",
    "        with torch.no_grad():\n",
    "            action = self.actor_local(state).cpu().data.numpy()\n",
    "        self.actor_local.train()\n",
    "        if add_noise:\n",
    "            action += self.noise.sample() \n",
    "        return np.clip(action, -1, 1)\n",
    "                         \n",
    "    def reset(self):\n",
    "        self.noise.reset()\n",
    "    \n",
    "    def soft_update(self, local_model, target_model, tau):\n",
    "        for target_param, local_param in zip(target_model.parameters(), local_model.parameters()):\n",
    "            target_param.data.copy_(tau*local_param.data + (1.0-tau)*target_param.data)"
   ]
  },
  {
   "cell_type": "code",
   "execution_count": 10,
   "metadata": {
    "pycharm": {
     "is_executing": false
    },
    "scrolled": true
   },
   "outputs": [
    {
     "name": "stdout",
     "output_type": "stream",
     "text": [
      "Episode 100\tAverage Score: 0.0201000003\n",
      "Episode 200\tAverage Score: 0.0000000000\n",
      "Episode 300\tAverage Score: 0.0000000000\n",
      "Episode 400\tAverage Score: 0.0000000000\n",
      "Episode 500\tAverage Score: 0.0020000000\n",
      "Episode 600\tAverage Score: 0.0159000002\n",
      "Episode 700\tAverage Score: 0.0713000012\n",
      "Episode 800\tAverage Score: 0.0817000013\n",
      "Episode 900\tAverage Score: 0.0935000015\n",
      "Episode 1000\tAverage Score: 0.0905000015\n",
      "Episode 1100\tAverage Score: 0.0990000016\n",
      "Episode 1200\tAverage Score: 0.1013000016\n",
      "Episode 1300\tAverage Score: 0.0980000016\n",
      "Episode 1400\tAverage Score: 0.1056000017\n",
      "Episode 1500\tAverage Score: 0.1557000024\n",
      "Episode 1600\tAverage Score: 0.1809000028\n",
      "Episode 1700\tAverage Score: 0.2141000033\n",
      "Episode 1800\tAverage Score: 0.2163000033\n",
      "Episode 1900\tAverage Score: 0.3253000049\n",
      "Episode 2000\tAverage Score: 0.3045000046\n",
      "Episode 2100\tAverage Score: 0.3291000050\n",
      "Episode 2200\tAverage Score: 0.2647000040\n",
      "Episode 2300\tAverage Score: 0.2317000035\n",
      "Episode 2400\tAverage Score: 0.1871000028\n",
      "Episode 2500\tAverage Score: 0.2373000036\n",
      "Episode 2600\tAverage Score: 0.1496000023\n",
      "Episode 2700\tAverage Score: 0.2475000037\n",
      "Episode 2800\tAverage Score: 0.2210000033\n",
      "Episode 2900\tAverage Score: 0.1887000029\n",
      "Episode 3000\tAverage Score: 0.1659000026\n",
      "Episode 3100\tAverage Score: 0.2415000037\n",
      "Episode 3200\tAverage Score: 0.2659000040\n",
      "Episode 3300\tAverage Score: 0.2387000036\n",
      "Episode 3400\tAverage Score: 0.2339000035\n",
      "Episode 3500\tAverage Score: 0.3513000053\n",
      "Episode 3560\tAverage Score: 0.5003000075\n",
      "Environment solved in 3460 episodes!\tAverage Score: 0.5003000075\n"
     ]
    },
    {
     "data": {
      "image/png": "[encoded data removed]",
      "text/plain": [
       "<matplotlib.figure.Figure at 0x7faaf40b9160>"
      ]
     },
     "metadata": {
      "needs_background": "light"
     },
     "output_type": "display_data"
    }
   ],
   "source": [
    "def ddpg2( n_episodes=5000):\n",
    "    scores_window = deque(maxlen=100)  \n",
    "    scores_per_episode = [] \n",
    "    average_scores_list  = []\n",
    "    agent = MultiAgent(state_size, action_size, num_agents, 6)\n",
    "    \n",
    "    for i_episode in range(1, n_episodes+1):\n",
    "        env_info = env.reset(train_mode=True)[brain_name]\n",
    "        state = env_info.vector_observations \n",
    "        score = np.zeros(num_agents) \n",
    "        \n",
    "        agent.reset()\n",
    "        while True:\n",
    "            actions = agent.act(state)\n",
    "            env_info = env.step(actions)[brain_name]\n",
    "            next_states = env_info.vector_observations   \n",
    "            rewards = env_info.rewards   \n",
    "            dones = env_info.local_done\n",
    "            agent.step(state, actions, rewards, next_states, dones)            \n",
    "            score += rewards\n",
    "            state = next_states\n",
    "            \n",
    "            if np.any(dones):\n",
    "                break\n",
    "            \n",
    "        score_max = np.max(score)\n",
    "        scores_per_episode.append(score_max)\n",
    "        scores_window.append(score_max)\n",
    "        avg_score = np.mean(scores_window)\n",
    "        average_scores_list.append(avg_score)\n",
    "        \n",
    "        print('\\rEpisode {}\\tAverage Score: {:.10f}'.format(i_episode,avg_score), end=\"\")\n",
    "        if i_episode % 100 == 0:\n",
    "            print('\\rEpisode {}\\tAverage Score: {:.10f}'.format(i_episode, avg_score))\n",
    "        if avg_score >=0.5:\n",
    "            print('\\nEnvironment solved in {:d} episodes!\\tAverage Score: {:.10f}'.format(i_episode-100, avg_score))\n",
    "            agent.save_weights()\n",
    "            break\n",
    "    return scores_per_episode, average_scores_list\n",
    "\n",
    "scores,avg_score = ddpg2()\n",
    "\n",
    "# plot the scores\n",
    "fig = plt.figure()\n",
    "ax = fig.add_subplot(111)\n",
    "plt.plot(np.arange(len(scores)), scores)\n",
    "plt.plot(np.arange(1, len(scores)+1), avg_score,'r',linewidth=5)\n",
    "plt.ylabel('Score')\n",
    "plt.xlabel('Episode #')\n",
    "plt.show()"
   ]
  },
  {
   "cell_type": "code",
   "execution_count": 11,
   "metadata": {
    "pycharm": {
     "name": "#%%\n"
    }
   },
   "outputs": [],
   "source": [
    "env.close()\n"
   ]
  }
 ],
 "metadata": {
  "kernelspec": {
   "display_name": "Python 3",
   "language": "python",
   "name": "python3"
  },
  "language_info": {
   "codemirror_mode": {
    "name": "ipython",
    "version": 3
   },
   "file_extension": ".py",
   "mimetype": "text/x-python",
   "name": "python",
   "nbconvert_exporter": "python",
   "pygments_lexer": "ipython3",
   "version": "3.6.3"
  },
  "pycharm": {
   "stem_cell": {
    "cell_type": "raw",
    "source": [],
    "metadata": {
     "collapsed": false
    }
   }
  }
 },
 "nbformat": 4,
 "nbformat_minor": 2
}